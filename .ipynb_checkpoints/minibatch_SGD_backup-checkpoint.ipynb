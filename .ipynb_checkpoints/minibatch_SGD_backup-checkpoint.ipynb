{
 "cells": [
  {
   "cell_type": "code",
   "execution_count": 2,
   "metadata": {
    "_cell_guid": "b1076dfc-b9ad-4769-8c92-a6c4dae69d19",
    "_uuid": "8f2839f25d086af736a60e9eeb907d3b93b6e0e5"
   },
   "outputs": [],
   "source": [
    "import numpy as np # linear algebra\n",
    "import pandas as pd # data processing, CSV file I/O (e.g. pd.read_csv)\n",
    "import tensorflow as tf\n",
    "import os"
   ]
  },
  {
   "cell_type": "code",
   "execution_count": 3,
   "metadata": {},
   "outputs": [],
   "source": [
    "x_train = np.load('x_train.npy')\n",
    "y_train = np.load('y_train.npy')\n",
    "x_test = np.load('x_test.npy')\n",
    "y_test = np.load('y_test.npy')"
   ]
  },
  {
   "cell_type": "code",
   "execution_count": 4,
   "metadata": {},
   "outputs": [],
   "source": [
    "num_classes = 10\n",
    "no_users = 20\n",
    "y_train = tf.keras.utils.to_categorical(y_train, num_classes)\n",
    "y_test = tf.keras.utils.to_categorical(y_test, num_classes)"
   ]
  },
  {
   "cell_type": "code",
   "execution_count": 5,
   "metadata": {},
   "outputs": [],
   "source": [
    "x_train = np.reshape(x_train, (x_train.shape[0], -1))/255\n",
    "x_test = np.reshape(x_test, (x_test.shape[0], -1))/255"
   ]
  },
  {
   "cell_type": "code",
   "execution_count": 6,
   "metadata": {},
   "outputs": [],
   "source": [
    "x_train = x_train[:10000,:]\n",
    "y_train = y_train[:10000,:]\n",
    "x_test = x_test[:2000,:]\n",
    "y_test = y_test[:2000,:]"
   ]
  },
  {
   "cell_type": "code",
   "execution_count": 7,
   "metadata": {},
   "outputs": [],
   "source": [
    "class User:\n",
    "    def __init__(self):\n",
    "        self.W1 = tf.Variable(tf.random.truncated_normal([784,128], stddev=0.1))\n",
    "        self.W2 = tf.Variable(tf.random.truncated_normal([128,64], stddev=0.1))\n",
    "        self.W3 = tf.Variable(tf.random.truncated_normal([64,10], stddev=0.1))\n",
    "        \n",
    "        self.gW1 = tf.Variable(tf.random.truncated_normal([784,128], stddev=0.1))\n",
    "        self.gW2 = tf.Variable(tf.random.truncated_normal([128,64], stddev=0.1))\n",
    "        self.gW3 = tf.Variable(tf.random.truncated_normal([64,10], stddev=0.1))\n",
    "\n",
    "        #self.lambda_W1 = tf.Variable(tf.zeros([784*128,1]))\n",
    "        #self.lambda_W2 = tf.Variable(tf.zeros([128*64,1]))\n",
    "        #self.lambda_W3 = tf.Variable(tf.zeros([64*10,1]))\n",
    "\n",
    "    def neural_net(self, x):\n",
    "        y1 = tf.nn.relu(tf.matmul(x, self.W1))\n",
    "        y2 = tf.nn.relu(tf.matmul(y1, self.W2))\n",
    "        ylogits = tf.matmul(y2, self.W3)\n",
    "        return tf.nn.softmax(ylogits)"
   ]
  },
  {
   "cell_type": "code",
   "execution_count": 8,
   "metadata": {},
   "outputs": [],
   "source": [
    "# mini-batch loss function.\n",
    "def mini_batches(X, Y, mb_size):\n",
    "\n",
    "    m = X.shape[0]\n",
    "    perm = list(np.random.permutation(m))\n",
    "    X_temp = X[perm,:]\n",
    "    Y_temp = Y[perm,:].reshape((m, Y.shape[1]))\n",
    "    \n",
    "    X_r = tf.convert_to_tensor(X_temp[0:mb_size,:], dtype=np.float32)\n",
    "    Y_r = tf.convert_to_tensor(Y_temp[0:mb_size,:], dtype=np.float32)\n",
    "    return X_r,Y_r"
   ]
  },
  {
   "cell_type": "code",
   "execution_count": 9,
   "metadata": {},
   "outputs": [],
   "source": [
    "# Cross-Entropy loss function.\n",
    "def cross_entropy(y_pred, y_true):\n",
    "    # Clip prediction values to avoid log(0) error.\n",
    "    y_pred = tf.clip_by_value(y_pred, 1e-9, 1.)\n",
    "    # Compute cross-entropy.\n",
    "    return -tf.reduce_sum(y_true * tf.math.log(y_pred))"
   ]
  },
  {
   "cell_type": "code",
   "execution_count": 10,
   "metadata": {},
   "outputs": [],
   "source": [
    "# Accuracy metric.\n",
    "def accuracy(y_pred, y_true):\n",
    "    # Predicted class is the index of highest score in prediction vector (i.e. argmax).\n",
    "    correct_prediction = tf.equal(tf.argmax(y_pred, 1), tf.argmax(y_true, 1))\n",
    "    return tf.reduce_mean(tf.cast(correct_prediction, tf.float32), axis=-1)"
   ]
  },
  {
   "cell_type": "code",
   "execution_count": 11,
   "metadata": {},
   "outputs": [],
   "source": [
    "# Optimization process. \n",
    "def get_gradients(x, y, W1, W2, W3):\n",
    "    # Variables to update, i.e. trainable variables.\n",
    "    trainable_variables = [W1, W2, W3]\n",
    "    \n",
    "    with tf.GradientTape() as g:\n",
    "        g.watch([W1,W2,W3])\n",
    "        y1 = tf.nn.relu(tf.matmul(x, W1))\n",
    "        y2 = tf.nn.relu(tf.matmul(y1, W2))\n",
    "        ylogits = tf.matmul(y2, W3)\n",
    "        pred = tf.nn.softmax(ylogits)\n",
    "        loss = cross_entropy(pred, y) \n",
    "    \n",
    "    # Compute gradients.\n",
    "    gradients1, gradients2, gradients3  = g.gradient(loss, trainable_variables)\n",
    "    \n",
    "    return gradients1, gradients2, gradients3, loss"
   ]
  },
  {
   "cell_type": "code",
   "execution_count": null,
   "metadata": {},
   "outputs": [],
   "source": [
    "users = [User() for i in range(no_users)]\n",
    "#rho = 20\n",
    "eta = 100\n",
    "central_modal = [tf.Variable(tf.random.truncated_normal([784*128,1], stddev=0.1)),\\\n",
    "                 tf.Variable(tf.random.truncated_normal([128*64,1], stddev=0.1)),\\\n",
    "                 tf.Variable(tf.random.truncated_normal([64*10,1], stddev=0.1))]"
   ]
  },
  {
   "cell_type": "code",
   "execution_count": null,
   "metadata": {},
   "outputs": [],
   "source": [
    "x_train_k = []\n",
    "y_train_k = []\n",
    "data_per_worker = int(x_train.shape[0]/no_users)\n",
    "for i in range(no_users):\n",
    "    first = i*data_per_worker\n",
    "    last = first + data_per_worker\n",
    "    x_train_k.append(x_train[first:last])\n",
    "    y_train_k.append(y_train[first:last])"
   ]
  },
  {
   "cell_type": "code",
   "execution_count": null,
   "metadata": {},
   "outputs": [],
   "source": [
    "x_test = tf.convert_to_tensor(x_test, dtype=np.float32)\n",
    "y_test = tf.convert_to_tensor(y_test, dtype=np.float32)"
   ]
  },
  {
   "cell_type": "code",
   "execution_count": null,
   "metadata": {},
   "outputs": [],
   "source": [
    "mb_size = 100\n",
    "n_epochs = 200\n",
    "lr = 0.001\n",
    "#n_localIter=1"
   ]
  },
  {
   "cell_type": "code",
   "execution_count": null,
   "metadata": {},
   "outputs": [],
   "source": [
    "Train_Acc = []\n",
    "Test_Acc = []\n",
    "acc_train = np.zeros([n_epochs,1])\n",
    "acc_test = np.zeros([n_epochs,1])\n",
    "total_loss = np.zeros([n_epochs,1])\n",
    "\n",
    "for i in range(no_users):\n",
    "    users[i].W1.assign(tf.reshape(central_modal[0],[784,128]))\n",
    "    users[i].W2.assign(tf.reshape(central_modal[1],[128,64]))\n",
    "    users[i].W3.assign(tf.reshape(central_modal[2],[64,10]))\n",
    "            \n",
    "for k in range(n_epochs):               \n",
    "        batch_x = []\n",
    "        batch_y = []\n",
    "        for i in range(no_users):\n",
    "            batch_xx , batch_yy = mini_batches(x_train_k[i],y_train_k[i],  mb_size)\n",
    "            batch_x.append(batch_xx)\n",
    "            batch_y.append(batch_yy) \n",
    "        for i in range(no_users):\n",
    "\n",
    "            gradients1, gradients2, gradients3, loss= get_gradients(batch_x[i], batch_y[i], users[i].W1,\\\n",
    "                                                                        users[i].W2, users[i].W3)               \n",
    "                                           \n",
    "            users[i].gW1.assign(gradients1)\n",
    "            users[i].gW2.assign(gradients2)\n",
    "            users[i].gW3.assign(gradients3)\n",
    "            total_loss[k] = total_loss[k] + loss\n",
    "        temp11 = 0\n",
    "        temp21 = 0\n",
    "        temp31 = 0              \n",
    "        for i in range(no_users):           \n",
    "            temp11 = temp11 + tf.reshape(users[i].gW1,[784*128, 1])\n",
    "            \n",
    "            temp21 = temp21 + tf.reshape(users[i].gW2,[128*64, 1]) \n",
    "                        \n",
    "            temp31 = temp31 + tf.reshape(users[i].gW3,[64*10, 1]) \n",
    "        \n",
    "        # Update central model \n",
    "        central_modal[0] = central_modal[0]-1/(no_users)*lr*(temp11)\n",
    "        central_modal[1] = central_modal[1]-1/(no_users)*lr*(temp21)\n",
    "        central_modal[2] = central_modal[2]-1/(no_users)*lr*(temp31)\n",
    "        \n",
    "        for i in range(no_users):\n",
    "                           \n",
    "            users[i].W1.assign(tf.reshape(central_modal[0],[784,128]))\n",
    "            users[i].W2.assign(tf.reshape(central_modal[1],[128,64]))\n",
    "            users[i].W3.assign(tf.reshape(central_modal[2],[64,10]))       \n",
    "        train_acc = []\n",
    "        test_acc = []\n",
    "        for j in range(no_users):  \n",
    "            train_pred = users[j].neural_net(batch_x[j])\n",
    "            train_acc.append(accuracy(train_pred, batch_y[j]))\n",
    "            test_pred = users[j].neural_net(x_test)\n",
    "            test_acc.append(accuracy(test_pred, y_test))\n",
    "        avgAcc_Train = np.mean(train_acc)\n",
    "        avgAcc_Test = np.mean(test_acc)\n",
    "        print('Train accuracy', avgAcc_Train)\n",
    "        print('Test accuracy',avgAcc_Test)\n",
    "        acc_train[k] = avgAcc_Train\n",
    "        acc_test[k] = avgAcc_Test        "
   ]
  },
  {
   "cell_type": "code",
   "execution_count": 18,
   "metadata": {},
   "outputs": [
    {
     "data": {
      "text/plain": [
       "array([0.86799991])"
      ]
     },
     "execution_count": 18,
     "metadata": {},
     "output_type": "execute_result"
    }
   ],
   "source": [
    "acc_test[-1]"
   ]
  },
  {
   "cell_type": "code",
   "execution_count": 19,
   "metadata": {},
   "outputs": [
    {
     "data": {
      "image/png": "[encoded data removed]",
      "text/plain": [
       "<Figure size 432x288 with 1 Axes>"
      ]
     },
     "metadata": {
      "needs_background": "light"
     },
     "output_type": "display_data"
    }
   ],
   "source": [
    "import matplotlib.pyplot as plt\n",
    "\n",
    "# Create plots with pre-defined labels.\n",
    "fig, ax = plt.subplots()\n",
    "ax.plot(range(n_epochs), acc_train, 'r-*', label='Average Train Accuracy')\n",
    "ax.plot(range(n_epochs), acc_test, 'b-*', label='Average Test Accuracy')\n",
    "\n",
    "legend = ax.legend(loc='lower right', shadow=True, fontsize='x-large')\n",
    "\n",
    "plt.show()"
   ]
  },
  {
   "cell_type": "code",
   "execution_count": 20,
   "metadata": {},
   "outputs": [],
   "source": [
    "np.save('acc_train_miniSGD', acc_train)\n",
    "np.save('acc_test_miniSGD', acc_test)\n",
    "np.save('loss_miniSGD', total_loss/no_users)"
   ]
  },
  {
   "cell_type": "code",
   "execution_count": 21,
   "metadata": {},
   "outputs": [
    {
     "data": {
      "image/png": "[encoded data removed]",
      "text/plain": [
       "<Figure size 432x288 with 1 Axes>"
      ]
     },
     "metadata": {
      "needs_background": "light"
     },
     "output_type": "display_data"
    }
   ],
   "source": [
    "# Create plots with pre-defined labels.\n",
    "fig, ax = plt.subplots()\n",
    "ax.plot(range(n_epochs), total_loss/no_users, 'r-*', label='Average Loss')\n",
    "\n",
    "legend = ax.legend(loc='upper right', shadow=True, fontsize='x-large')\n",
    "\n",
    "plt.yscale('log')\n",
    "plt.show()"
   ]
  }
 ],
 "metadata": {
  "kernelspec": {
   "display_name": "Python 3",
   "language": "python",
   "name": "python3"
  },
  "language_info": {
   "codemirror_mode": {
    "name": "ipython",
    "version": 3
   },
   "file_extension": ".py",
   "mimetype": "text/x-python",
   "name": "python",
   "nbconvert_exporter": "python",
   "pygments_lexer": "ipython3",
   "version": "3.8.3"
  }
 },
 "nbformat": 4,
 "nbformat_minor": 4
}
